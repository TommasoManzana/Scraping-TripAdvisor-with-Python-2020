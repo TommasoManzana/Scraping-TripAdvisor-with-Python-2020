{
 "cells": [
  {
   "cell_type": "markdown",
   "metadata": {
    "colab_type": "text",
    "id": "E2XB_l-Hgzq_"
   },
   "source": [
    "# Scraping TripAdvisor with Selenium 2020"
   ]
  },
  {
   "cell_type": "markdown",
   "metadata": {
    "colab_type": "text",
    "id": "vZPgpRl5g2e2"
   },
   "source": [
    "In this notebook It is described how to scrape TripAdvisor reviews with Selenium.\n",
    "\n",
    "The code is commented but if you have any doubts, don't hesitate to get in touch with me"
   ]
  },
  {
   "cell_type": "markdown",
   "metadata": {
    "colab_type": "text",
    "id": "Fjad5jsr9YaM"
   },
   "source": [
    "## Step 1: import the libraries "
   ]
  },
  {
   "cell_type": "code",
   "execution_count": 23,
   "metadata": {
    "colab": {},
    "colab_type": "code",
    "id": "9S4CiOh3RzFW"
   },
   "outputs": [],
   "source": [
    "import csv\n",
    "import time\n",
    "from selenium import webdriver\n",
    "from selenium.common.exceptions import NoSuchElementException"
   ]
  },
  {
   "cell_type": "markdown",
   "metadata": {
    "colab_type": "text",
    "id": "oRQd4-v0nQqH"
   },
   "source": [
    "## Step 2: load the web driver and the page"
   ]
  },
  {
   "cell_type": "code",
   "execution_count": 25,
   "metadata": {
    "colab": {},
    "colab_type": "code",
    "id": "iCi2oSdInRkC"
   },
   "outputs": [],
   "source": [
    "# import the webdriver, chrome driver is recommended\n",
    "driver = webdriver.Chrome(\"/Users/gius/Downloads/chromedriver\")\n",
    "\n",
    "# insert the tripadvisor's website of one attraction \n",
    "driver.get(\"https://www.tripadvisor.it/Attraction_Review-g187791-d192285-Reviews-Colosseum-Rome_Lazio.html\")"
   ]
  },
  {
   "cell_type": "code",
   "execution_count": 26,
   "metadata": {
    "colab": {},
    "colab_type": "code",
    "id": "18nn6eW_s-fV"
   },
   "outputs": [],
   "source": [
    "# function to check if the button is on the page, to avoid miss-click problem\n",
    "def check_exists_by_xpath(xpath):\n",
    "    try:\n",
    "        driver.find_element_by_xpath(xpath)\n",
    "    except NoSuchElementException:\n",
    "        return False\n",
    "    return True"
   ]
  },
  {
   "cell_type": "markdown",
   "metadata": {
    "colab_type": "text",
    "id": "OD-28l_0p0PQ"
   },
   "source": [
    "Comment the code below if you do not want select the rating \n",
    "\n",
    "You can use more than one, just change the number at the end, *don't forget the sleep function*"
   ]
  },
  {
   "cell_type": "code",
   "execution_count": 30,
   "metadata": {
    "colab": {},
    "colab_type": "code",
    "id": "5QJGFjzOMbfN"
   },
   "outputs": [],
   "source": [
    "time.sleep(2)\n",
    "driver.find_element_by_xpath('//label[@for=\"ReviewRatingFilter_5\"]').click()\n",
    "time.sleep(2)"
   ]
  },
  {
   "cell_type": "markdown",
   "metadata": {
    "colab_type": "text",
    "id": "ry1jvEr9EIdd"
   },
   "source": [
    "## Step3: open the file in append mode to add the reviews"
   ]
  },
  {
   "cell_type": "code",
   "execution_count": 31,
   "metadata": {
    "colab": {},
    "colab_type": "code",
    "id": "XLYSTil4E0Dm"
   },
   "outputs": [],
   "source": [
    "# open the file to save the review\n",
    "csvFile = open(\"/Users/gius/Desktop/reviews.csv\", 'a', encoding='utf-8')\n",
    "csvWriter = csv.writer(csvFile)"
   ]
  },
  {
   "cell_type": "markdown",
   "metadata": {
    "colab_type": "text",
    "id": "qJKk_7JI-MtW"
   },
   "source": [
    "## Step4: save reviews with labels in extended mode "
   ]
  },
  {
   "cell_type": "code",
   "execution_count": 32,
   "metadata": {
    "colab": {},
    "colab_type": "code",
    "id": "8G1jg0cj9Duf"
   },
   "outputs": [],
   "source": [
    "# change the value inside the range to save more or less reviews\n",
    "for i in range(0,400):\n",
    "    \n",
    "    if (check_exists_by_xpath(\"//span[@class='taLnk ulBlueLinks']\")):\n",
    "        # to expand the review \n",
    "        driver.find_element_by_xpath(\"//span[@class='taLnk ulBlueLinks']\").click()\n",
    "        time.sleep(5)\n",
    "        \n",
    "    container = driver.find_elements_by_xpath(\"//div[@class='Dq9MAugU T870kzTX LnVzGwUB']\")\n",
    "    num_page_items = len(container);\n",
    "    \n",
    "    for j in range(num_page_items):\n",
    "        # to save the rating\n",
    "        string = container[j].find_element_by_xpath(\".//span[contains(@class, 'ui_bubble_rating bubble_')]\").get_attribute(\"class\")\n",
    "        data = string.split(\"_\")\n",
    "        # to save in a csv file readable the star and the review [Ex: 50,\"I love this place\"]\n",
    "        csvWriter.writerow([data[3], container[j].find_element_by_xpath(\".//q[@class='IRsGHoPm']\").text.replace(\"\\n\", \"\")])\n",
    "\n",
    "    # to change the page\n",
    "    if (check_exists_by_xpath('//a[@class=\"ui_button nav next primary \"]')):\n",
    "        driver.find_element_by_xpath('//a[@class=\"ui_button nav next primary \"]').click()\n",
    "    time.sleep(5)\n",
    "    \n",
    "driver.close()"
   ]
  },
  {
   "cell_type": "code",
   "execution_count": null,
   "metadata": {},
   "outputs": [],
   "source": []
  }
 ],
 "metadata": {
  "accelerator": "TPU",
  "colab": {
   "collapsed_sections": [],
   "name": "scraping tripadvisor",
   "provenance": [],
   "version": "0.3.2"
  },
  "kernelspec": {
   "display_name": "Python 3",
   "language": "python",
   "name": "python3"
  },
  "language_info": {
   "codemirror_mode": {
    "name": "ipython",
    "version": 3
   },
   "file_extension": ".py",
   "mimetype": "text/x-python",
   "name": "python",
   "nbconvert_exporter": "python",
   "pygments_lexer": "ipython3",
   "version": "3.7.3"
  }
 },
 "nbformat": 4,
 "nbformat_minor": 1
}
